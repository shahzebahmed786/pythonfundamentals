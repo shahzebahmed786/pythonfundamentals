{
 "cells": [
  {
   "cell_type": "code",
   "execution_count": 3,
   "id": "c971d0a3",
   "metadata": {},
   "outputs": [],
   "source": [
    "#Introduction to python programming:\n"
   ]
  },
  {
   "cell_type": "code",
   "execution_count": 5,
   "id": "062a9e25",
   "metadata": {},
   "outputs": [],
   "source": [
    "#understanding the variables in python"
   ]
  },
  {
   "cell_type": "code",
   "execution_count": 6,
   "id": "122beeed",
   "metadata": {},
   "outputs": [],
   "source": [
    "x= 3\n",
    "y = 2"
   ]
  },
  {
   "cell_type": "code",
   "execution_count": 9,
   "id": "4bbf8b00",
   "metadata": {},
   "outputs": [],
   "source": [
    "z = x + y"
   ]
  },
  {
   "cell_type": "code",
   "execution_count": 10,
   "id": "41a31d8a",
   "metadata": {},
   "outputs": [
    {
     "name": "stdout",
     "output_type": "stream",
     "text": [
      "5\n"
     ]
    }
   ],
   "source": [
    "print(z)"
   ]
  },
  {
   "cell_type": "code",
   "execution_count": 11,
   "id": "dd053811",
   "metadata": {},
   "outputs": [],
   "source": [
    "#Rules for declaring the variables in python"
   ]
  },
  {
   "cell_type": "code",
   "execution_count": 12,
   "id": "debe590b",
   "metadata": {},
   "outputs": [],
   "source": [
    "#Rule No 1 : No namespace while declaring the name.\n",
    "# First name - Incorrect\n",
    "#first_name - Correct"
   ]
  },
  {
   "cell_type": "code",
   "execution_count": 13,
   "id": "2bea24a1",
   "metadata": {},
   "outputs": [],
   "source": [
    "#Rule No 2 : Variable name should not start with number\n",
    "# 1first_name - incorrect\n",
    "# first_name - Correct"
   ]
  },
  {
   "cell_type": "code",
   "execution_count": 14,
   "id": "5b15b6de",
   "metadata": {},
   "outputs": [],
   "source": [
    "#Rule No 3 : Variable name should not start with any special characters\n",
    "# %first_name, $first_name, %first_name,@first_name - incorrect\n",
    "# first_name - correct"
   ]
  },
  {
   "cell_type": "code",
   "execution_count": 17,
   "id": "e989fcb5",
   "metadata": {},
   "outputs": [],
   "source": [
    "first_name = 'Shahzeb'\n",
    "Last_name = 'Ahmed'"
   ]
  },
  {
   "cell_type": "code",
   "execution_count": 19,
   "id": "4c40dae3",
   "metadata": {},
   "outputs": [
    {
     "name": "stdout",
     "output_type": "stream",
     "text": [
      "Shahzeb\n"
     ]
    }
   ],
   "source": [
    "print(first_name)"
   ]
  },
  {
   "cell_type": "code",
   "execution_count": 22,
   "id": "ec9ea3f6",
   "metadata": {},
   "outputs": [
    {
     "name": "stdout",
     "output_type": "stream",
     "text": [
      "Ahmed\n"
     ]
    }
   ],
   "source": [
    "print(Last_name)"
   ]
  },
  {
   "cell_type": "code",
   "execution_count": 23,
   "id": "f4a216d6",
   "metadata": {},
   "outputs": [],
   "source": [
    "#Introduction to datatypes in python"
   ]
  },
  {
   "cell_type": "raw",
   "id": "d14b0b5f",
   "metadata": {},
   "source": [
    "# String = str\n",
    "# number -- int\n",
    "# list\n",
    "# tuple\n",
    "# dictionary - dict"
   ]
  },
  {
   "cell_type": "code",
   "execution_count": null,
   "id": "74bed702",
   "metadata": {},
   "outputs": [],
   "source": []
  },
  {
   "cell_type": "code",
   "execution_count": null,
   "id": "17fbe6c8",
   "metadata": {},
   "outputs": [],
   "source": [
    "Classification of Datatypes:\n",
    "    Mutable - which are editable and flexible in nature\n",
    "    Immutable - Which are no editable and fixed in nature"
   ]
  },
  {
   "cell_type": "code",
   "execution_count": null,
   "id": "224bafb9",
   "metadata": {},
   "outputs": [],
   "source": []
  },
  {
   "cell_type": "code",
   "execution_count": null,
   "id": "87576426",
   "metadata": {},
   "outputs": [],
   "source": [
    "Introduction to string datatypes:\n",
    "    Definition - String is a series of character declared in quotes.\n",
    "    classification - Immutable Datatype\n",
    "    To Declare String - We can use single or double quote."
   ]
  },
  {
   "cell_type": "code",
   "execution_count": null,
   "id": "488d2344",
   "metadata": {},
   "outputs": [],
   "source": []
  },
  {
   "cell_type": "code",
   "execution_count": null,
   "id": "8c86c93e",
   "metadata": {},
   "outputs": [],
   "source": [
    "Introduction to string methods :"
   ]
  },
  {
   "cell_type": "code",
   "execution_count": 24,
   "id": "cafa9461",
   "metadata": {},
   "outputs": [
    {
     "data": {
      "text/plain": [
       "str"
      ]
     },
     "execution_count": 24,
     "metadata": {},
     "output_type": "execute_result"
    }
   ],
   "source": [
    "type(first_name)"
   ]
  },
  {
   "cell_type": "code",
   "execution_count": 25,
   "id": "ce6c39ac",
   "metadata": {},
   "outputs": [
    {
     "data": {
      "text/plain": [
       "str"
      ]
     },
     "execution_count": 25,
     "metadata": {},
     "output_type": "execute_result"
    }
   ],
   "source": [
    "type(Last_name)"
   ]
  },
  {
   "cell_type": "code",
   "execution_count": 28,
   "id": "567fdb72",
   "metadata": {},
   "outputs": [
    {
     "name": "stdout",
     "output_type": "stream",
     "text": [
      "adiba ansari\n"
     ]
    }
   ],
   "source": [
    "fullname = 'adiba ansari'\n",
    "print(fullname)"
   ]
  },
  {
   "cell_type": "code",
   "execution_count": 29,
   "id": "9dea86d4",
   "metadata": {},
   "outputs": [],
   "source": [
    "#req : correct the format"
   ]
  },
  {
   "cell_type": "code",
   "execution_count": 31,
   "id": "19f1e93a",
   "metadata": {},
   "outputs": [
    {
     "name": "stdout",
     "output_type": "stream",
     "text": [
      "Adiba Ansari\n"
     ]
    }
   ],
   "source": [
    "print(fullname.title())"
   ]
  },
  {
   "cell_type": "code",
   "execution_count": null,
   "id": "f5df93db",
   "metadata": {},
   "outputs": [],
   "source": [
    "#req - Fullname in capitals"
   ]
  },
  {
   "cell_type": "code",
   "execution_count": 33,
   "id": "8e3a67c7",
   "metadata": {},
   "outputs": [
    {
     "name": "stdout",
     "output_type": "stream",
     "text": [
      "ADIBA ANSARI\n"
     ]
    }
   ],
   "source": [
    "print(fullname.upper())"
   ]
  },
  {
   "cell_type": "code",
   "execution_count": 34,
   "id": "ea5b7f80",
   "metadata": {},
   "outputs": [],
   "source": [
    "#req - Fullname in smallcase"
   ]
  },
  {
   "cell_type": "code",
   "execution_count": 35,
   "id": "bb60773a",
   "metadata": {},
   "outputs": [
    {
     "name": "stdout",
     "output_type": "stream",
     "text": [
      "adiba ansari\n"
     ]
    }
   ],
   "source": [
    "print(fullname.lower())"
   ]
  },
  {
   "cell_type": "code",
   "execution_count": null,
   "id": "eb849b98",
   "metadata": {},
   "outputs": [],
   "source": []
  }
 ],
 "metadata": {
  "kernelspec": {
   "display_name": "Python 3 (ipykernel)",
   "language": "python",
   "name": "python3"
  },
  "language_info": {
   "codemirror_mode": {
    "name": "ipython",
    "version": 3
   },
   "file_extension": ".py",
   "mimetype": "text/x-python",
   "name": "python",
   "nbconvert_exporter": "python",
   "pygments_lexer": "ipython3",
   "version": "3.9.15"
  }
 },
 "nbformat": 4,
 "nbformat_minor": 5
}
